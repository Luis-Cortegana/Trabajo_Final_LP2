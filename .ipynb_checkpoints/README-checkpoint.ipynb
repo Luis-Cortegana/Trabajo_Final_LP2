{
 "cells": [
  {
   "cell_type": "markdown",
   "id": "f64c38ad-74b8-489d-9f39-b90170b0754c",
   "metadata": {},
   "source": [
    "# Descripción del Proyecto\n",
    "\n",
    "Este programa utiliza las APIs de Google Maps y TMDB (The Movie Database) para realizar búsquedas y análisis relacionados con negocios y cines. Además, incorpora el uso de coordenadas geográficas específicas para distintos distritos.\n",
    "\n",
    "---\n"
   ]
  },
  {
   "cell_type": "markdown",
   "id": "d57259d9-ed73-4d92-85a6-d42d438dfc3c",
   "metadata": {},
   "source": [
    "# Características Principales\n",
    "\n",
    "## 1. Configuración de APIs\n",
    "El programa utiliza claves y endpoints de las siguientes APIs:\n",
    "\n",
    "### Google Maps API:\n",
    "\n",
    "**Nearby Search:** Para buscar negocios cercanos.\n",
    "\n",
    "**Distance Matrix:** Para calcular distancias.\n",
    "\n",
    "**Geolocation:** Para determinar coordenadas.\n",
    "\n",
    "### TMDB API: Para obtener información de películas y cines.\n",
    "\n",
    "## 2. Traducción de Tipos de Negocios\n",
    "Se define un diccionario para traducir tipos de negocios al formato requerido por la API de Google Maps. \n",
    "\n",
    "**Ejemplo:**\n",
    "\n",
    "\"restaurantes\" → \"restaurant\"\n",
    "\n",
    "\"cines\" → \"movie_theater\"\n",
    "\n",
    "## 3. Coordenadas de Distritos\n",
    "\n",
    "El programa asigna coordenadas específicas a varios distritos de Lima, Perú. \n",
    "\n",
    "**Ejemplo:**\n",
    "\n",
    "La Molina: (-12.087703, -76.937397)\n",
    "\n",
    "Cercado de Lima: (-12.046374, -77.042793)"
   ]
  },
  {
   "cell_type": "markdown",
   "id": "938514a1-5fb9-4efa-8cab-ea588dd27950",
   "metadata": {},
   "source": [
    "# Aplicación del Programa\n",
    "\n",
    "**Este programa puede utilizarse para:**\n",
    "\n",
    "Análisis de negocios cercanos (restaurantes, cines, hoteles, etc.)\n",
    "\n",
    "Cálculo de distancias entre ubicaciones.\n",
    "\n",
    "Búsqueda de información de películas y cines en TMDB."
   ]
  },
  {
   "cell_type": "markdown",
   "id": "2dd41636-ca09-4048-bf04-f78269402b51",
   "metadata": {},
   "source": [
    "# Estructura del Código\n",
    "\n",
    "**El programa se organiza en las siguientes secciones:**\n",
    "\n",
    "1. Instalación de dependencias.\n",
    "   \n",
    "2. Configuración de APIs.\n",
    "\n",
    "   \n",
    "3. Definición de tipos de negocios y coordenadas.\n",
    "\n",
    "   \n",
    "4. Funciones para consumir las APIs y realizar análisis.\n"
   ]
  },
  {
   "cell_type": "code",
   "execution_count": null,
   "id": "bb20b462-0950-4ea3-b6da-c976037be1dc",
   "metadata": {},
   "outputs": [],
   "source": []
  }
 ],
 "metadata": {
  "kernelspec": {
   "display_name": "Python 3 (ipykernel)",
   "language": "python",
   "name": "python3"
  },
  "language_info": {
   "codemirror_mode": {
    "name": "ipython",
    "version": 3
   },
   "file_extension": ".py",
   "mimetype": "text/x-python",
   "name": "python",
   "nbconvert_exporter": "python",
   "pygments_lexer": "ipython3",
   "version": "3.12.5"
  }
 },
 "nbformat": 4,
 "nbformat_minor": 5
}
